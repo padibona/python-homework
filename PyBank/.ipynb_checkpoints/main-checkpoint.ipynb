{
 "cells": [
  {
   "cell_type": "markdown",
   "id": "7079f4c3-d16e-477f-aa73-6d0f4adddc4f",
   "metadata": {},
   "source": [
    "# Import necessary libraries for CSV import and Filepaths"
   ]
  },
  {
   "cell_type": "code",
   "execution_count": 1,
   "id": "000d3308-612e-4129-905d-08ef83625a50",
   "metadata": {},
   "outputs": [],
   "source": [
    "from pathlib import Path\n",
    "import csv"
   ]
  },
  {
   "cell_type": "markdown",
   "id": "7645125d-f0f0-4bfe-86b4-1c41f1654bfe",
   "metadata": {},
   "source": [
    "# Import CSV"
   ]
  },
  {
   "cell_type": "code",
   "execution_count": 3,
   "id": "2014c6c0-05fa-4a1b-8fca-aff0e5b1c870",
   "metadata": {},
   "outputs": [],
   "source": [
    "csv_path = Path(\"../Resources/budget_data.csv\")"
   ]
  },
  {
   "cell_type": "markdown",
   "id": "e619f52e-36f4-454b-a880-4f11fbce7544",
   "metadata": {},
   "source": [
    "# Calculate total number of months in dataset:"
   ]
  },
  {
   "cell_type": "code",
   "execution_count": 80,
   "id": "e66a27d8-6fd2-48eb-a679-1b99ddb7f259",
   "metadata": {},
   "outputs": [
    {
     "name": "stdout",
     "output_type": "stream",
     "text": [
      "86\n"
     ]
    }
   ],
   "source": [
    "# initialize list containing dict of dates and profits/losses \n",
    "profit_loss = []\n",
    "# Open input path of file object\n",
    "with open(csv_path, 'r') as csvfile:\n",
    "    # pass in csv file to csv.reader() function\n",
    "    csvreader = csv.reader(csvfile, delimiter=',')\n",
    "    # Go to the next row from the start of the file - skip header\n",
    "    next(csvreader)\n",
    "    # Read each row of data after the header\n",
    "    for row in csvreader:\n",
    "        profit_loss.append(row)\n",
    "    # Total Months = length of profit_loss list - will use later for output\n",
    "    total_months = len(profit_loss)\n",
    "    print(total_months)"
   ]
  },
  {
   "cell_type": "markdown",
   "id": "99fa560b-7b43-4c5d-ac3e-7ff0f72506da",
   "metadata": {},
   "source": [
    "## Calculate net total amount of Profit/Losses over entire period"
   ]
  },
  {
   "cell_type": "code",
   "execution_count": 82,
   "id": "deeb4402-171b-4834-b40c-915571f84909",
   "metadata": {},
   "outputs": [
    {
     "name": "stdout",
     "output_type": "stream",
     "text": [
      "38382578\n"
     ]
    }
   ],
   "source": [
    "# initialize some lists\n",
    "profit_loss_list = []\n",
    "date_list = []\n",
    "for date, pnl in profit_loss:\n",
    "    profit_loss_list.append(int(pnl))\n",
    "    date_list.append(str(date))\n",
    "\n",
    "# calculates sum of all profits/losses over whole time\n",
    "total_profit_loss = sum(profit_loss_list)\n",
    "print (total_profit_loss)"
   ]
  },
  {
   "cell_type": "markdown",
   "id": "10a5d60c-adcd-425a-b2d6-711b132a502e",
   "metadata": {},
   "source": [
    "## Calculate Average change over whole period"
   ]
  },
  {
   "cell_type": "code",
   "execution_count": 84,
   "id": "420ff52e-eb24-4f4e-9ba6-467bea9beeae",
   "metadata": {},
   "outputs": [
    {
     "name": "stdout",
     "output_type": "stream",
     "text": [
      "446309.05\n"
     ]
    }
   ],
   "source": [
    "average = round((total_profit_loss / total_months),2)\n",
    "print(average)\n",
    "    "
   ]
  },
  {
   "cell_type": "markdown",
   "id": "c3c160a1-b1c0-496f-accb-15b34cb48c9e",
   "metadata": {},
   "source": [
    "## Calculate Largest Monthly Profit over whole timeframe and index of that"
   ]
  },
  {
   "cell_type": "code",
   "execution_count": 90,
   "id": "3d7a6def-0cc6-4714-bae9-982b37c550eb",
   "metadata": {},
   "outputs": [
    {
     "name": "stdout",
     "output_type": "stream",
     "text": [
      "1170593\n",
      "25\n"
     ]
    }
   ],
   "source": [
    "max_profit = max(profit_loss_list)\n",
    "index_max = profit_loss_list.index(max_profit)\n",
    "print(max_profit)\n",
    "print(index_max)"
   ]
  },
  {
   "cell_type": "markdown",
   "id": "f929a47b-3663-4570-b5d4-f7bb3d58a41e",
   "metadata": {},
   "source": [
    "## Calculate Largest Monthly Loss over whole timeframe - with date that occured"
   ]
  },
  {
   "cell_type": "code",
   "execution_count": 91,
   "id": "0856bdc9-da51-4cfc-9254-b9701a065cfa",
   "metadata": {},
   "outputs": [
    {
     "name": "stdout",
     "output_type": "stream",
     "text": [
      "-1196225\n",
      "44\n"
     ]
    }
   ],
   "source": [
    "max_loss = min(profit_loss_list)\n",
    "index_min = profit_loss_list.index(max_loss)\n",
    "print(max_loss)\n",
    "print(index_min)"
   ]
  },
  {
   "cell_type": "markdown",
   "id": "d13c4f10-b741-46f5-a2cc-d810b957ade8",
   "metadata": {},
   "source": [
    "## Pull Date of Max Profit"
   ]
  },
  {
   "cell_type": "code",
   "execution_count": 94,
   "id": "5b895d1a-584a-4802-aafb-9aa8dfdd0c06",
   "metadata": {},
   "outputs": [
    {
     "name": "stdout",
     "output_type": "stream",
     "text": [
      "Feb-2012\n"
     ]
    }
   ],
   "source": [
    "max_profit_date = profit_loss[index_max][0]\n",
    "print(max_profit_date)"
   ]
  },
  {
   "cell_type": "markdown",
   "id": "550e2a06-320a-4d28-b106-2e3660b6216f",
   "metadata": {},
   "source": [
    "## Pull Date of Min Profit"
   ]
  },
  {
   "cell_type": "code",
   "execution_count": 95,
   "id": "955ebe1d-62bd-446c-9f40-8c066cd23ea5",
   "metadata": {},
   "outputs": [
    {
     "name": "stdout",
     "output_type": "stream",
     "text": [
      "Sep-2013\n"
     ]
    }
   ],
   "source": [
    "min_profit_date = profit_loss[index_min][0]\n",
    "print(min_profit_date)"
   ]
  },
  {
   "cell_type": "markdown",
   "id": "fcd2c78f-feca-4ba3-b3f0-4d055a5de08e",
   "metadata": {},
   "source": [
    "## Print to terminal"
   ]
  },
  {
   "cell_type": "code",
   "execution_count": 96,
   "id": "315bd6c1-2014-4180-b84d-df0119cd8f40",
   "metadata": {},
   "outputs": [
    {
     "name": "stdout",
     "output_type": "stream",
     "text": [
      "Financial Analysis\n",
      "------------------------------\n",
      "Total Months: 86\n",
      "Total: $38382578\n",
      "Average  Change: $446309.05\n",
      "Greatest Increase in Profits: Feb-2012 ($1170593)\n",
      "Greatest Decrease in Profits: Sep-2013 ($-1196225)\n"
     ]
    }
   ],
   "source": [
    "print(\"Financial Analysis\")\n",
    "print(\"------------------------------\")\n",
    "print(f\"Total Months: {total_months}\")\n",
    "print(f\"Total: ${total_profit_loss}\")\n",
    "print(f\"Average  Change: ${average}\")\n",
    "print(f\"Greatest Increase in Profits: {max_profit_date} (${max_profit})\")\n",
    "print(f\"Greatest Decrease in Profits: {min_profit_date} (${max_loss})\")"
   ]
  },
  {
   "cell_type": "markdown",
   "id": "49b9342e-f3e6-4f6f-b03f-2c8a263861f0",
   "metadata": {},
   "source": [
    "## Print to file"
   ]
  },
  {
   "cell_type": "code",
   "execution_count": 102,
   "id": "58135847-e1f7-446d-b850-62cb9b9a1d29",
   "metadata": {},
   "outputs": [],
   "source": [
    "# Set the output file path\n",
    "output_path = Path('../Resources/output.txt')\n",
    "# Open the output path as a file object\n",
    "with open(output_path, 'w') as file:\n",
    "    file.write(\"Financial Analysis\\n\")\n",
    "    file.write(\"------------------------------\\n\")\n",
    "    file.write(f\"Total Months: {total_months}\\n\")\n",
    "    file.write(f\"Total: ${total_profit_loss}\\n\")\n",
    "    file.write(f\"Average  Change: ${average}\\n\")\n",
    "    file.write(f\"Greatest Increase in Profits: {max_profit_date} (${max_profit})\\n\")\n",
    "    file.write(f\"Greatest Decrease in Profits: {min_profit_date} (${max_loss})\\n\")"
   ]
  },
  {
   "cell_type": "code",
   "execution_count": null,
   "id": "b684b3fd-72ba-4802-a8bc-0a11ac3d9977",
   "metadata": {},
   "outputs": [],
   "source": []
  }
 ],
 "metadata": {
  "kernelspec": {
   "display_name": "Python 3",
   "language": "python",
   "name": "python3"
  },
  "language_info": {
   "codemirror_mode": {
    "name": "ipython",
    "version": 3
   },
   "file_extension": ".py",
   "mimetype": "text/x-python",
   "name": "python",
   "nbconvert_exporter": "python",
   "pygments_lexer": "ipython3",
   "version": "3.8.8"
  }
 },
 "nbformat": 4,
 "nbformat_minor": 5
}
